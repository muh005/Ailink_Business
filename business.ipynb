{
 "cells": [
  {
   "cell_type": "markdown",
   "metadata": {},
   "source": [
    "# Ailink Business\n",
    "Author: Mu He  \n",
    "Date: Nov 8 2020  \n",
    "©Ailink Technology Corporation. All rights reserved. "
   ]
  },
  {
   "cell_type": "markdown",
   "metadata": {},
   "source": [
    "## Background"
   ]
  },
  {
   "cell_type": "markdown",
   "metadata": {},
   "source": [
    "San Diego Housing market is returning to its high point from 2016. During this pandemic, Federal Reserve System is setting a rate around 0%. The housing rental market is still recovering. \n",
    "\n",
    "To invest in housing market, using leverage, i.e. low interest mortgage loan from banks can be a good choice if cash flow is higher than loan monthly payment. \n",
    "\n",
    "After investing, it's a good idea to list your property in https://ailink-tech.com/product/unilink/, we will help you with your rental rate of return. \n",
    "\n",
    "#### Costs listed: \n",
    "* Loan interest now for 30 years term fixed at 2.375%, the investment property can be 0.5% higher, that is 2.875%.\n",
    "\n",
    "* Property tax in San Diego county is 1.25% annually.\n",
    "\n",
    "* Homeowner's association (HOA) is an organization in a subdivision, planned community, or condominium building that makes and enforces rules for the properties and its residents. The rate is 0.24% annually. \n",
    "\n",
    "* Home owner insurance is 0.55% annually. [source](https://www.insurance.com/home-and-renters-insurance/home-insurance-basics/average-homeowners-insurance-rates-by-state)\n",
    "\n",
    "#### Return listed: \n",
    "\n",
    "* Rental rate of return is average at 5% yearly around San Diego county. \n",
    "* Return of asset is 10% yearly around San Diego county. \n",
    "\n",
    "\n",
    "#### Profit Margin = Return - Costs"
   ]
  },
  {
   "cell_type": "markdown",
   "metadata": {},
   "source": [
    "### Example \n",
    "As an example, we will list an property of 3B2B, which is roughly $600,000 around UTC area, so normally the renters will be students. You can let [Unilink](https://ailink-tech.com/product/unilink/) to help you find those students or young professions. "
   ]
  },
  {
   "cell_type": "markdown",
   "metadata": {},
   "source": [
    "## Import necessary libraries"
   ]
  },
  {
   "cell_type": "code",
   "execution_count": 2,
   "metadata": {
    "collapsed": true
   },
   "outputs": [],
   "source": [
    "import numpy as np\n",
    "import pandas as pd"
   ]
  },
  {
   "cell_type": "markdown",
   "metadata": {},
   "source": [
    "## Preprocess the data"
   ]
  },
  {
   "cell_type": "code",
   "execution_count": 3,
   "metadata": {
    "collapsed": true
   },
   "outputs": [],
   "source": [
    "df_train = pd.read_csv('train.csv')"
   ]
  },
  {
   "cell_type": "code",
   "execution_count": 4,
   "metadata": {},
   "outputs": [
    {
     "data": {
      "text/plain": [
       "Index(['Id', 'Total Price($)', 'Down payment($)', 'Loan Interest(%)',\n",
       "       'Terms(Year)', 'Property tax(%)', 'HOA(%)', 'Insurance(%)',\n",
       "       'Rental rate of return(%)', 'Return of asset(%)'],\n",
       "      dtype='object')"
      ]
     },
     "execution_count": 4,
     "metadata": {},
     "output_type": "execute_result"
    }
   ],
   "source": [
    "df_train.columns"
   ]
  },
  {
   "cell_type": "code",
   "execution_count": 5,
   "metadata": {
    "collapsed": true
   },
   "outputs": [],
   "source": [
    "totalHousePrice = df_train['Total Price($)'].iloc[0]\n",
    "downPayment = df_train['Down payment($)'].iloc[0]\n",
    "loanInterest = df_train['Loan Interest(%)'].iloc[0]\n",
    "terms = df_train['Terms(Year)'].iloc[0]\n",
    "propertyTax = df_train['Property tax(%)'].iloc[0]\n",
    "hoa = df_train['HOA(%)'].iloc[0]\n",
    "insurance = df_train['Insurance(%)'].iloc[0]\n",
    "rentalRateOfReturn = df_train['Rental rate of return(%)'].iloc[0]\n",
    "returnOfAsset = df_train['Return of asset(%)'].iloc[0]"
   ]
  },
  {
   "cell_type": "markdown",
   "metadata": {},
   "source": [
    "# Part 1: Business model as rental return"
   ]
  },
  {
   "cell_type": "markdown",
   "metadata": {},
   "source": [
    "## Cost"
   ]
  },
  {
   "cell_type": "markdown",
   "metadata": {},
   "source": [
    "### Mortgage calculator"
   ]
  },
  {
   "cell_type": "code",
   "execution_count": 6,
   "metadata": {},
   "outputs": [
    {
     "data": {
      "text/plain": [
       "300000"
      ]
     },
     "execution_count": 6,
     "metadata": {},
     "output_type": "execute_result"
    }
   ],
   "source": [
    "totalLoans = totalHousePrice - downPayment\n",
    "totalLoans"
   ]
  },
  {
   "cell_type": "code",
   "execution_count": 7,
   "metadata": {},
   "outputs": [
    {
     "data": {
      "text/plain": [
       "0.02375"
      ]
     },
     "execution_count": 7,
     "metadata": {},
     "output_type": "execute_result"
    }
   ],
   "source": [
    "loanInterest"
   ]
  },
  {
   "cell_type": "markdown",
   "metadata": {},
   "source": [
    "To invest as an LLC, the investment property can be 0.5% higher, that is 2.875%."
   ]
  },
  {
   "cell_type": "code",
   "execution_count": 8,
   "metadata": {},
   "outputs": [
    {
     "data": {
      "text/plain": [
       "0.02875"
      ]
     },
     "execution_count": 8,
     "metadata": {},
     "output_type": "execute_result"
    }
   ],
   "source": [
    "investmentLoanInterest = loanInterest + 0.005\n",
    "investmentLoanInterest"
   ]
  },
  {
   "cell_type": "markdown",
   "metadata": {},
   "source": [
    "Payment per term is calculated by \n",
    "paymentPerTerm = totalLoans x interest + totalLoans x interest / [(1 + interest) ^ terms - 1]"
   ]
  },
  {
   "cell_type": "code",
   "execution_count": 9,
   "metadata": {},
   "outputs": [
    {
     "data": {
      "text/plain": [
       "15059.50778645316"
      ]
     },
     "execution_count": 9,
     "metadata": {},
     "output_type": "execute_result"
    }
   ],
   "source": [
    "paymentPerTerm = totalLoans * investmentLoanInterest +  totalLoans * investmentLoanInterest / ((1 + investmentLoanInterest)**(terms) - 1) \n",
    "paymentPerTerm"
   ]
  },
  {
   "cell_type": "code",
   "execution_count": 10,
   "metadata": {},
   "outputs": [
    {
     "data": {
      "text/plain": [
       "1254.95898220443"
      ]
     },
     "execution_count": 10,
     "metadata": {},
     "output_type": "execute_result"
    }
   ],
   "source": [
    "monthlyLoanPayment = paymentPerTerm / 12\n",
    "monthlyLoanPayment"
   ]
  },
  {
   "cell_type": "code",
   "execution_count": 11,
   "metadata": {},
   "outputs": [
    {
     "data": {
      "text/plain": [
       "119.99999999999999"
      ]
     },
     "execution_count": 11,
     "metadata": {},
     "output_type": "execute_result"
    }
   ],
   "source": [
    "monthlyHoa = hoa * totalHousePrice / 12\n",
    "monthlyHoa"
   ]
  },
  {
   "cell_type": "code",
   "execution_count": 12,
   "metadata": {},
   "outputs": [
    {
     "data": {
      "text/plain": [
       "625.0"
      ]
     },
     "execution_count": 12,
     "metadata": {},
     "output_type": "execute_result"
    }
   ],
   "source": [
    "monthlyPropertyTax = propertyTax * totalHousePrice / 12\n",
    "monthlyPropertyTax"
   ]
  },
  {
   "cell_type": "code",
   "execution_count": 13,
   "metadata": {},
   "outputs": [
    {
     "data": {
      "text/plain": [
       "275.0"
      ]
     },
     "execution_count": 13,
     "metadata": {},
     "output_type": "execute_result"
    }
   ],
   "source": [
    "monthlyInsurance = insurance * totalHousePrice / 12\n",
    "monthlyInsurance"
   ]
  },
  {
   "cell_type": "code",
   "execution_count": 14,
   "metadata": {},
   "outputs": [
    {
     "data": {
      "text/plain": [
       "2274.95898220443"
      ]
     },
     "execution_count": 14,
     "metadata": {},
     "output_type": "execute_result"
    }
   ],
   "source": [
    "totalMonthlyCost = monthlyLoanPayment + monthlyHoa + monthlyPropertyTax + monthlyInsurance\n",
    "totalMonthlyCost"
   ]
  },
  {
   "cell_type": "markdown",
   "metadata": {},
   "source": [
    "### Return"
   ]
  },
  {
   "cell_type": "code",
   "execution_count": 15,
   "metadata": {},
   "outputs": [
    {
     "data": {
      "text/plain": [
       "2500.0"
      ]
     },
     "execution_count": 15,
     "metadata": {},
     "output_type": "execute_result"
    }
   ],
   "source": [
    "totalMonthlyReturn = totalHousePrice * rentalRateOfReturn / 12\n",
    "totalMonthlyReturn"
   ]
  },
  {
   "cell_type": "markdown",
   "metadata": {},
   "source": [
    "### Profit Margin"
   ]
  },
  {
   "cell_type": "code",
   "execution_count": 16,
   "metadata": {},
   "outputs": [
    {
     "data": {
      "text/plain": [
       "225.04101779557004"
      ]
     },
     "execution_count": 16,
     "metadata": {},
     "output_type": "execute_result"
    }
   ],
   "source": [
    "monthlyProfitMargin = totalMonthlyReturn - totalMonthlyCost\n",
    "monthlyProfitMargin"
   ]
  },
  {
   "cell_type": "code",
   "execution_count": 17,
   "metadata": {},
   "outputs": [
    {
     "data": {
      "text/plain": [
       "2700.4922135468405"
      ]
     },
     "execution_count": 17,
     "metadata": {},
     "output_type": "execute_result"
    }
   ],
   "source": [
    "annuallyProfitMargin = monthlyProfitMargin * 12\n",
    "annuallyProfitMargin"
   ]
  },
  {
   "cell_type": "markdown",
   "metadata": {},
   "source": [
    "## ROA"
   ]
  },
  {
   "cell_type": "code",
   "execution_count": 18,
   "metadata": {},
   "outputs": [
    {
     "data": {
      "text/plain": [
       "60000.0"
      ]
     },
     "execution_count": 18,
     "metadata": {},
     "output_type": "execute_result"
    }
   ],
   "source": [
    "annuallyReturnOfAsset = returnOfAsset * totalHousePrice\n",
    "annuallyReturnOfAsset"
   ]
  },
  {
   "cell_type": "markdown",
   "metadata": {},
   "source": [
    "Special note, we don't need to think about inheritance tax since we can use dynasty trust to hold those properties. The trust will never die, so we don't need to think about inheritance issue. "
   ]
  },
  {
   "cell_type": "markdown",
   "metadata": {},
   "source": [
    "## Let's Roll"
   ]
  },
  {
   "cell_type": "markdown",
   "metadata": {},
   "source": [
    "The idea was to take a lot of houses from csv file and calculate one by one profit margin and save back to the same file."
   ]
  },
  {
   "cell_type": "code",
   "execution_count": 19,
   "metadata": {
    "collapsed": true
   },
   "outputs": [],
   "source": [
    "def Costs(totalHousePrice, downPayment, propertyTax, hoa, insurance):\n",
    "    totalLoans = totalHousePrice - downPayment\n",
    "    investmentLoanInterest = loanInterest + 0.005\n",
    "    paymentPerTerm = totalLoans * investmentLoanInterest +  totalLoans * investmentLoanInterest / ((1 + investmentLoanInterest)**(terms) - 1) \n",
    "    annualPropertyTax = propertyTax *  totalHousePrice\n",
    "    annualHoa = hoa * totalHousePrice\n",
    "    annualInsurance = insurance * totalHousePrice\n",
    "    \n",
    "    return paymentPerTerm + annualPropertyTax + annualHoa + annualInsurance"
   ]
  },
  {
   "cell_type": "code",
   "execution_count": 29,
   "metadata": {},
   "outputs": [
    {
     "data": {
      "text/plain": [
       "0    27299.507786\n",
       "Name: Costs, dtype: float64"
      ]
     },
     "execution_count": 29,
     "metadata": {},
     "output_type": "execute_result"
    }
   ],
   "source": [
    "df_train['Costs'] = df_train.apply(lambda x: Costs(x['Total Price($)'], x['Down payment($)'],  x['Property tax(%)'], x['HOA(%)'], x['Insurance(%)']), axis=1)\n",
    "df_train['Costs']"
   ]
  },
  {
   "cell_type": "code",
   "execution_count": 30,
   "metadata": {},
   "outputs": [],
   "source": [
    "def RentalReturn(totalHousePrice, rentalRateOfReturn):\n",
    "    return totalHousePrice * rentalRateOfReturn"
   ]
  },
  {
   "cell_type": "code",
   "execution_count": 31,
   "metadata": {},
   "outputs": [
    {
     "data": {
      "text/plain": [
       "0    30000.0\n",
       "Name: RentalReturn, dtype: float64"
      ]
     },
     "execution_count": 31,
     "metadata": {},
     "output_type": "execute_result"
    }
   ],
   "source": [
    "df_train['RentalReturn'] = df_train.apply(lambda x: RentalReturn(x['Total Price($)'], x['Rental rate of return(%)']), axis=1)\n",
    "df_train['RentalReturn']"
   ]
  },
  {
   "cell_type": "code",
   "execution_count": 32,
   "metadata": {
    "collapsed": true
   },
   "outputs": [],
   "source": [
    "def ROA(totalHousePrice, returnOfAsset):\n",
    "    return totalHousePrice * returnOfAsset"
   ]
  },
  {
   "cell_type": "code",
   "execution_count": 33,
   "metadata": {},
   "outputs": [
    {
     "data": {
      "text/plain": [
       "0    60000.0\n",
       "Name: ROA, dtype: float64"
      ]
     },
     "execution_count": 33,
     "metadata": {},
     "output_type": "execute_result"
    }
   ],
   "source": [
    "df_train['ROA'] = df_train.apply(lambda x: ROA(x['Total Price($)'], x['Return of asset(%)']), axis=1)\n",
    "df_train['ROA']"
   ]
  },
  {
   "cell_type": "code",
   "execution_count": 37,
   "metadata": {},
   "outputs": [
    {
     "data": {
      "text/plain": [
       "0    2700.492214\n",
       "Name: ProfitMargin, dtype: float64"
      ]
     },
     "execution_count": 37,
     "metadata": {},
     "output_type": "execute_result"
    }
   ],
   "source": [
    "df_train['ProfitMargin'] = df_train['RentalReturn'] - df_train['Costs']\n",
    "df_train['ProfitMargin']"
   ]
  },
  {
   "cell_type": "code",
   "execution_count": 38,
   "metadata": {
    "collapsed": true
   },
   "outputs": [],
   "source": [
    "df_train.to_csv('train.csv', index=True) "
   ]
  },
  {
   "cell_type": "markdown",
   "metadata": {},
   "source": [
    "# Part 2: Business model as an insurance"
   ]
  },
  {
   "cell_type": "markdown",
   "metadata": {},
   "source": [
    "The vacancy rate for housing can be detrimental. As you can see from the above business model, \n",
    "the month profit margin and annual profit margin is tight. \n",
    "\n",
    "The annual profit margin is around one month rent. So you can imagine you need one month to find a renter.\n",
    "\n",
    "The idea was to bound enough property owner, "
   ]
  },
  {
   "cell_type": "code",
   "execution_count": null,
   "metadata": {
    "collapsed": true
   },
   "outputs": [],
   "source": []
  }
 ],
 "metadata": {
  "kernelspec": {
   "display_name": "Python 3",
   "language": "python",
   "name": "python3"
  },
  "language_info": {
   "codemirror_mode": {
    "name": "ipython",
    "version": 3
   },
   "file_extension": ".py",
   "mimetype": "text/x-python",
   "name": "python",
   "nbconvert_exporter": "python",
   "pygments_lexer": "ipython3",
   "version": "3.6.3"
  }
 },
 "nbformat": 4,
 "nbformat_minor": 2
}
